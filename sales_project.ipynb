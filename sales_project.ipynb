{
  "nbformat": 4,
  "nbformat_minor": 0,
  "metadata": {
    "colab": {
      "provenance": [],
      "toc_visible": true,
      "authorship_tag": "ABX9TyPg1LQoiBb5jjPLkogtyZvs"
    },
    "kernelspec": {
      "name": "python3",
      "display_name": "Python 3"
    },
    "language_info": {
      "name": "python"
    }
  },
  "cells": [
    {
      "cell_type": "code",
      "source": [
        "import numpy as np\n",
        "import pandas as pd\n",
        "import matplotlib.pyplot as plt\n",
        "import os\n",
        "import glob\n",
        "import seaborn as sns\n",
        "import datetime as dt\n",
        "from itertools import combinations\n",
        "from collections import Counter"
      ],
      "metadata": {
        "id": "M4EArcrU094i"
      },
      "execution_count": 1,
      "outputs": []
    },
    {
      "cell_type": "code",
      "source": [
        "path = '/content/data'\n",
        "filenames = glob.glob(path + \"/*.csv\")\n",
        "\n",
        "dfs = []\n",
        "for filename in filenames:\n",
        "    dfs.append(pd.read_csv(filename))\n",
        "\n",
        "# Concatenate all data into one DataFrame\n",
        "df = pd.concat(dfs, ignore_index=True)\n",
        "df.head()"
      ],
      "metadata": {
        "colab": {
          "base_uri": "https://localhost:8080/",
          "height": 206
        },
        "id": "7sj5W-2_1g2O",
        "outputId": "71012938-6097-4497-e7f5-bc9d6eee9c92"
      },
      "execution_count": 2,
      "outputs": [
        {
          "output_type": "execute_result",
          "data": {
            "text/plain": [
              "  Order ID                   Product Quantity Ordered Price Each  \\\n",
              "0   222910  Apple Airpods Headphones                1        150   \n",
              "1   222911             Flatscreen TV                1        300   \n",
              "2   222912     AA Batteries (4-pack)                1       3.84   \n",
              "3   222913     AA Batteries (4-pack)                1       3.84   \n",
              "4   222914    AAA Batteries (4-pack)                5       2.99   \n",
              "\n",
              "       Order Date                  Purchase Address  \n",
              "0  07/26/19 16:51   389 South St, Atlanta, GA 30301  \n",
              "1  07/05/19 08:55     590 4th St, Seattle, WA 98101  \n",
              "2  07/29/19 12:41    861 Hill St, Atlanta, GA 30301  \n",
              "3  07/28/19 10:15   190 Ridge St, Atlanta, GA 30301  \n",
              "4  07/31/19 02:13  824 Forest St, Seattle, WA 98101  "
            ],
            "text/html": [
              "\n",
              "  <div id=\"df-9ca96498-a6eb-4304-912e-f57b72706058\">\n",
              "    <div class=\"colab-df-container\">\n",
              "      <div>\n",
              "<style scoped>\n",
              "    .dataframe tbody tr th:only-of-type {\n",
              "        vertical-align: middle;\n",
              "    }\n",
              "\n",
              "    .dataframe tbody tr th {\n",
              "        vertical-align: top;\n",
              "    }\n",
              "\n",
              "    .dataframe thead th {\n",
              "        text-align: right;\n",
              "    }\n",
              "</style>\n",
              "<table border=\"1\" class=\"dataframe\">\n",
              "  <thead>\n",
              "    <tr style=\"text-align: right;\">\n",
              "      <th></th>\n",
              "      <th>Order ID</th>\n",
              "      <th>Product</th>\n",
              "      <th>Quantity Ordered</th>\n",
              "      <th>Price Each</th>\n",
              "      <th>Order Date</th>\n",
              "      <th>Purchase Address</th>\n",
              "    </tr>\n",
              "  </thead>\n",
              "  <tbody>\n",
              "    <tr>\n",
              "      <th>0</th>\n",
              "      <td>222910</td>\n",
              "      <td>Apple Airpods Headphones</td>\n",
              "      <td>1</td>\n",
              "      <td>150</td>\n",
              "      <td>07/26/19 16:51</td>\n",
              "      <td>389 South St, Atlanta, GA 30301</td>\n",
              "    </tr>\n",
              "    <tr>\n",
              "      <th>1</th>\n",
              "      <td>222911</td>\n",
              "      <td>Flatscreen TV</td>\n",
              "      <td>1</td>\n",
              "      <td>300</td>\n",
              "      <td>07/05/19 08:55</td>\n",
              "      <td>590 4th St, Seattle, WA 98101</td>\n",
              "    </tr>\n",
              "    <tr>\n",
              "      <th>2</th>\n",
              "      <td>222912</td>\n",
              "      <td>AA Batteries (4-pack)</td>\n",
              "      <td>1</td>\n",
              "      <td>3.84</td>\n",
              "      <td>07/29/19 12:41</td>\n",
              "      <td>861 Hill St, Atlanta, GA 30301</td>\n",
              "    </tr>\n",
              "    <tr>\n",
              "      <th>3</th>\n",
              "      <td>222913</td>\n",
              "      <td>AA Batteries (4-pack)</td>\n",
              "      <td>1</td>\n",
              "      <td>3.84</td>\n",
              "      <td>07/28/19 10:15</td>\n",
              "      <td>190 Ridge St, Atlanta, GA 30301</td>\n",
              "    </tr>\n",
              "    <tr>\n",
              "      <th>4</th>\n",
              "      <td>222914</td>\n",
              "      <td>AAA Batteries (4-pack)</td>\n",
              "      <td>5</td>\n",
              "      <td>2.99</td>\n",
              "      <td>07/31/19 02:13</td>\n",
              "      <td>824 Forest St, Seattle, WA 98101</td>\n",
              "    </tr>\n",
              "  </tbody>\n",
              "</table>\n",
              "</div>\n",
              "      <button class=\"colab-df-convert\" onclick=\"convertToInteractive('df-9ca96498-a6eb-4304-912e-f57b72706058')\"\n",
              "              title=\"Convert this dataframe to an interactive table.\"\n",
              "              style=\"display:none;\">\n",
              "        \n",
              "  <svg xmlns=\"http://www.w3.org/2000/svg\" height=\"24px\"viewBox=\"0 0 24 24\"\n",
              "       width=\"24px\">\n",
              "    <path d=\"M0 0h24v24H0V0z\" fill=\"none\"/>\n",
              "    <path d=\"M18.56 5.44l.94 2.06.94-2.06 2.06-.94-2.06-.94-.94-2.06-.94 2.06-2.06.94zm-11 1L8.5 8.5l.94-2.06 2.06-.94-2.06-.94L8.5 2.5l-.94 2.06-2.06.94zm10 10l.94 2.06.94-2.06 2.06-.94-2.06-.94-.94-2.06-.94 2.06-2.06.94z\"/><path d=\"M17.41 7.96l-1.37-1.37c-.4-.4-.92-.59-1.43-.59-.52 0-1.04.2-1.43.59L10.3 9.45l-7.72 7.72c-.78.78-.78 2.05 0 2.83L4 21.41c.39.39.9.59 1.41.59.51 0 1.02-.2 1.41-.59l7.78-7.78 2.81-2.81c.8-.78.8-2.07 0-2.86zM5.41 20L4 18.59l7.72-7.72 1.47 1.35L5.41 20z\"/>\n",
              "  </svg>\n",
              "      </button>\n",
              "      \n",
              "  <style>\n",
              "    .colab-df-container {\n",
              "      display:flex;\n",
              "      flex-wrap:wrap;\n",
              "      gap: 12px;\n",
              "    }\n",
              "\n",
              "    .colab-df-convert {\n",
              "      background-color: #E8F0FE;\n",
              "      border: none;\n",
              "      border-radius: 50%;\n",
              "      cursor: pointer;\n",
              "      display: none;\n",
              "      fill: #1967D2;\n",
              "      height: 32px;\n",
              "      padding: 0 0 0 0;\n",
              "      width: 32px;\n",
              "    }\n",
              "\n",
              "    .colab-df-convert:hover {\n",
              "      background-color: #E2EBFA;\n",
              "      box-shadow: 0px 1px 2px rgba(60, 64, 67, 0.3), 0px 1px 3px 1px rgba(60, 64, 67, 0.15);\n",
              "      fill: #174EA6;\n",
              "    }\n",
              "\n",
              "    [theme=dark] .colab-df-convert {\n",
              "      background-color: #3B4455;\n",
              "      fill: #D2E3FC;\n",
              "    }\n",
              "\n",
              "    [theme=dark] .colab-df-convert:hover {\n",
              "      background-color: #434B5C;\n",
              "      box-shadow: 0px 1px 3px 1px rgba(0, 0, 0, 0.15);\n",
              "      filter: drop-shadow(0px 1px 2px rgba(0, 0, 0, 0.3));\n",
              "      fill: #FFFFFF;\n",
              "    }\n",
              "  </style>\n",
              "\n",
              "      <script>\n",
              "        const buttonEl =\n",
              "          document.querySelector('#df-9ca96498-a6eb-4304-912e-f57b72706058 button.colab-df-convert');\n",
              "        buttonEl.style.display =\n",
              "          google.colab.kernel.accessAllowed ? 'block' : 'none';\n",
              "\n",
              "        async function convertToInteractive(key) {\n",
              "          const element = document.querySelector('#df-9ca96498-a6eb-4304-912e-f57b72706058');\n",
              "          const dataTable =\n",
              "            await google.colab.kernel.invokeFunction('convertToInteractive',\n",
              "                                                     [key], {});\n",
              "          if (!dataTable) return;\n",
              "\n",
              "          const docLinkHtml = 'Like what you see? Visit the ' +\n",
              "            '<a target=\"_blank\" href=https://colab.research.google.com/notebooks/data_table.ipynb>data table notebook</a>'\n",
              "            + ' to learn more about interactive tables.';\n",
              "          element.innerHTML = '';\n",
              "          dataTable['output_type'] = 'display_data';\n",
              "          await google.colab.output.renderOutput(dataTable, element);\n",
              "          const docLink = document.createElement('div');\n",
              "          docLink.innerHTML = docLinkHtml;\n",
              "          element.appendChild(docLink);\n",
              "        }\n",
              "      </script>\n",
              "    </div>\n",
              "  </div>\n",
              "  "
            ]
          },
          "metadata": {},
          "execution_count": 2
        }
      ]
    },
    {
      "cell_type": "code",
      "source": [
        "# getting to know the data\n",
        "df.info()"
      ],
      "metadata": {
        "colab": {
          "base_uri": "https://localhost:8080/"
        },
        "id": "7l0XIa6e23MU",
        "outputId": "e4687748-80f0-407f-e7e7-97b931b16d05"
      },
      "execution_count": 3,
      "outputs": [
        {
          "output_type": "stream",
          "name": "stdout",
          "text": [
            "<class 'pandas.core.frame.DataFrame'>\n",
            "RangeIndex: 186850 entries, 0 to 186849\n",
            "Data columns (total 6 columns):\n",
            " #   Column            Non-Null Count   Dtype \n",
            "---  ------            --------------   ----- \n",
            " 0   Order ID          186305 non-null  object\n",
            " 1   Product           186305 non-null  object\n",
            " 2   Quantity Ordered  186305 non-null  object\n",
            " 3   Price Each        186305 non-null  object\n",
            " 4   Order Date        186305 non-null  object\n",
            " 5   Purchase Address  186305 non-null  object\n",
            "dtypes: object(6)\n",
            "memory usage: 8.6+ MB\n"
          ]
        }
      ]
    },
    {
      "cell_type": "code",
      "source": [
        "# checking the nulls\n",
        "df.isna().sum()"
      ],
      "metadata": {
        "colab": {
          "base_uri": "https://localhost:8080/"
        },
        "id": "H7cARl5d57P0",
        "outputId": "d4a1ae55-91b3-48e2-f0bc-023f73917879"
      },
      "execution_count": 4,
      "outputs": [
        {
          "output_type": "execute_result",
          "data": {
            "text/plain": [
              "Order ID            545\n",
              "Product             545\n",
              "Quantity Ordered    545\n",
              "Price Each          545\n",
              "Order Date          545\n",
              "Purchase Address    545\n",
              "dtype: int64"
            ]
          },
          "metadata": {},
          "execution_count": 4
        }
      ]
    },
    {
      "cell_type": "code",
      "source": [
        "# Removing all rows containing a NaN  value\n",
        "df.dropna(inplace=True)"
      ],
      "metadata": {
        "id": "o0IfM2gn7IG0"
      },
      "execution_count": 5,
      "outputs": []
    },
    {
      "cell_type": "markdown",
      "source": [
        "### Question 1\n",
        "what is the best month in sales? and how much was the revenue?"
      ],
      "metadata": {
        "id": "A95bmhzV8JbF"
      }
    },
    {
      "cell_type": "code",
      "source": [
        "# finding the or\n",
        "df = df[df['Order Date'].str[0:2] != 'Or']"
      ],
      "metadata": {
        "id": "W6bHjLyGM9oV"
      },
      "execution_count": 6,
      "outputs": []
    },
    {
      "cell_type": "code",
      "source": [
        "# adding a month column\n",
        "df['Month'] = df['Order Date'].str[0:2]\n",
        "df['Month'] = df['Month'].astype('int32')"
      ],
      "metadata": {
        "id": "KJl5p31e8cGN"
      },
      "execution_count": 7,
      "outputs": []
    },
    {
      "cell_type": "code",
      "source": [
        "# adding a sales column\n",
        "df['Quantity Ordered'] = pd.to_numeric(df['Quantity Ordered'])\n",
        "df['Price Each'] = pd.to_numeric(df['Price Each'])\n",
        "df['Sales'] = df['Price Each'] * df['Quantity Ordered']"
      ],
      "metadata": {
        "id": "oEcBZ07_OxCI"
      },
      "execution_count": 8,
      "outputs": []
    },
    {
      "cell_type": "code",
      "source": [
        "# now everything is ready so let's answer the first question\n",
        "rev = df.groupby('Month').sum()"
      ],
      "metadata": {
        "id": "UVRQvTRgRhqE"
      },
      "execution_count": 9,
      "outputs": []
    },
    {
      "cell_type": "code",
      "source": [
        "fig, ax = plt.subplots()\n",
        "months = range(1,13)\n",
        "plt.xlabel(\"Month\")\n",
        "plt.ylabel(\"Sales Revenue in millions ($)\")\n",
        "plt.xticks(months)\n",
        "ax.plot(months,rev['Sales'] )"
      ],
      "metadata": {
        "colab": {
          "base_uri": "https://localhost:8080/",
          "height": 307
        },
        "id": "2_twViZhVg6T",
        "outputId": "ee862d28-53eb-48cb-df0a-fb0eb57963a0"
      },
      "execution_count": 10,
      "outputs": [
        {
          "output_type": "execute_result",
          "data": {
            "text/plain": [
              "[<matplotlib.lines.Line2D at 0x7f6cfecd8f70>]"
            ]
          },
          "metadata": {},
          "execution_count": 10
        },
        {
          "output_type": "display_data",
          "data": {
            "text/plain": [
              "<Figure size 432x288 with 1 Axes>"
            ],
            "image/png": "[encoded data removed]"
          },
          "metadata": {
            "needs_background": "light"
          }
        }
      ]
    },
    {
      "cell_type": "markdown",
      "source": [
        "**So, the month that had highest sales is December**\n",
        "\n",
        "> Probably because of Christmas\n",
        "\n",
        "**Also, the worst month was January** \n",
        "\n",
        "> probably because people spent all their savings on December\n"
      ],
      "metadata": {
        "id": "TcVPSqQfX4fP"
      }
    },
    {
      "cell_type": "markdown",
      "source": [
        "### Question 2\n",
        "What City had the highest number of sales?"
      ],
      "metadata": {
        "id": "jJBxipsvXqhc"
      }
    },
    {
      "cell_type": "code",
      "source": [
        "# adding a city column\n",
        "\n",
        "def get_city(address):\n",
        "  return address.split(',')[1]\n",
        "\n",
        "def get_state(address):\n",
        "  return address.split(',')[2].split(' ')[1]\n",
        "\n",
        "df['City'] = df['Purchase Address'].apply(lambda x: f\"{get_city(x)} {get_state(x)}\")\n",
        "df['State'] = df['Purchase Address'].apply(lambda x: get_state(x))\n",
        "df.head()"
      ],
      "metadata": {
        "colab": {
          "base_uri": "https://localhost:8080/",
          "height": 354
        },
        "id": "mKJDp8WYV_Ez",
        "outputId": "7a8de3dd-70b7-42a9-ce27-47925d190977"
      },
      "execution_count": 11,
      "outputs": [
        {
          "output_type": "execute_result",
          "data": {
            "text/plain": [
              "  Order ID                   Product  Quantity Ordered  Price Each  \\\n",
              "0   222910  Apple Airpods Headphones                 1      150.00   \n",
              "1   222911             Flatscreen TV                 1      300.00   \n",
              "2   222912     AA Batteries (4-pack)                 1        3.84   \n",
              "3   222913     AA Batteries (4-pack)                 1        3.84   \n",
              "4   222914    AAA Batteries (4-pack)                 5        2.99   \n",
              "\n",
              "       Order Date                  Purchase Address  Month   Sales  \\\n",
              "0  07/26/19 16:51   389 South St, Atlanta, GA 30301      7  150.00   \n",
              "1  07/05/19 08:55     590 4th St, Seattle, WA 98101      7  300.00   \n",
              "2  07/29/19 12:41    861 Hill St, Atlanta, GA 30301      7    3.84   \n",
              "3  07/28/19 10:15   190 Ridge St, Atlanta, GA 30301      7    3.84   \n",
              "4  07/31/19 02:13  824 Forest St, Seattle, WA 98101      7   14.95   \n",
              "\n",
              "          City State  \n",
              "0   Atlanta GA    GA  \n",
              "1   Seattle WA    WA  \n",
              "2   Atlanta GA    GA  \n",
              "3   Atlanta GA    GA  \n",
              "4   Seattle WA    WA  "
            ],
            "text/html": [
              "\n",
              "  <div id=\"df-a3f3205e-e902-4d62-a6ce-9a86eeba0b14\">\n",
              "    <div class=\"colab-df-container\">\n",
              "      <div>\n",
              "<style scoped>\n",
              "    .dataframe tbody tr th:only-of-type {\n",
              "        vertical-align: middle;\n",
              "    }\n",
              "\n",
              "    .dataframe tbody tr th {\n",
              "        vertical-align: top;\n",
              "    }\n",
              "\n",
              "    .dataframe thead th {\n",
              "        text-align: right;\n",
              "    }\n",
              "</style>\n",
              "<table border=\"1\" class=\"dataframe\">\n",
              "  <thead>\n",
              "    <tr style=\"text-align: right;\">\n",
              "      <th></th>\n",
              "      <th>Order ID</th>\n",
              "      <th>Product</th>\n",
              "      <th>Quantity Ordered</th>\n",
              "      <th>Price Each</th>\n",
              "      <th>Order Date</th>\n",
              "      <th>Purchase Address</th>\n",
              "      <th>Month</th>\n",
              "      <th>Sales</th>\n",
              "      <th>City</th>\n",
              "      <th>State</th>\n",
              "    </tr>\n",
              "  </thead>\n",
              "  <tbody>\n",
              "    <tr>\n",
              "      <th>0</th>\n",
              "      <td>222910</td>\n",
              "      <td>Apple Airpods Headphones</td>\n",
              "      <td>1</td>\n",
              "      <td>150.00</td>\n",
              "      <td>07/26/19 16:51</td>\n",
              "      <td>389 South St, Atlanta, GA 30301</td>\n",
              "      <td>7</td>\n",
              "      <td>150.00</td>\n",
              "      <td>Atlanta GA</td>\n",
              "      <td>GA</td>\n",
              "    </tr>\n",
              "    <tr>\n",
              "      <th>1</th>\n",
              "      <td>222911</td>\n",
              "      <td>Flatscreen TV</td>\n",
              "      <td>1</td>\n",
              "      <td>300.00</td>\n",
              "      <td>07/05/19 08:55</td>\n",
              "      <td>590 4th St, Seattle, WA 98101</td>\n",
              "      <td>7</td>\n",
              "      <td>300.00</td>\n",
              "      <td>Seattle WA</td>\n",
              "      <td>WA</td>\n",
              "    </tr>\n",
              "    <tr>\n",
              "      <th>2</th>\n",
              "      <td>222912</td>\n",
              "      <td>AA Batteries (4-pack)</td>\n",
              "      <td>1</td>\n",
              "      <td>3.84</td>\n",
              "      <td>07/29/19 12:41</td>\n",
              "      <td>861 Hill St, Atlanta, GA 30301</td>\n",
              "      <td>7</td>\n",
              "      <td>3.84</td>\n",
              "      <td>Atlanta GA</td>\n",
              "      <td>GA</td>\n",
              "    </tr>\n",
              "    <tr>\n",
              "      <th>3</th>\n",
              "      <td>222913</td>\n",
              "      <td>AA Batteries (4-pack)</td>\n",
              "      <td>1</td>\n",
              "      <td>3.84</td>\n",
              "      <td>07/28/19 10:15</td>\n",
              "      <td>190 Ridge St, Atlanta, GA 30301</td>\n",
              "      <td>7</td>\n",
              "      <td>3.84</td>\n",
              "      <td>Atlanta GA</td>\n",
              "      <td>GA</td>\n",
              "    </tr>\n",
              "    <tr>\n",
              "      <th>4</th>\n",
              "      <td>222914</td>\n",
              "      <td>AAA Batteries (4-pack)</td>\n",
              "      <td>5</td>\n",
              "      <td>2.99</td>\n",
              "      <td>07/31/19 02:13</td>\n",
              "      <td>824 Forest St, Seattle, WA 98101</td>\n",
              "      <td>7</td>\n",
              "      <td>14.95</td>\n",
              "      <td>Seattle WA</td>\n",
              "      <td>WA</td>\n",
              "    </tr>\n",
              "  </tbody>\n",
              "</table>\n",
              "</div>\n",
              "      <button class=\"colab-df-convert\" onclick=\"convertToInteractive('df-a3f3205e-e902-4d62-a6ce-9a86eeba0b14')\"\n",
              "              title=\"Convert this dataframe to an interactive table.\"\n",
              "              style=\"display:none;\">\n",
              "        \n",
              "  <svg xmlns=\"http://www.w3.org/2000/svg\" height=\"24px\"viewBox=\"0 0 24 24\"\n",
              "       width=\"24px\">\n",
              "    <path d=\"M0 0h24v24H0V0z\" fill=\"none\"/>\n",
              "    <path d=\"M18.56 5.44l.94 2.06.94-2.06 2.06-.94-2.06-.94-.94-2.06-.94 2.06-2.06.94zm-11 1L8.5 8.5l.94-2.06 2.06-.94-2.06-.94L8.5 2.5l-.94 2.06-2.06.94zm10 10l.94 2.06.94-2.06 2.06-.94-2.06-.94-.94-2.06-.94 2.06-2.06.94z\"/><path d=\"M17.41 7.96l-1.37-1.37c-.4-.4-.92-.59-1.43-.59-.52 0-1.04.2-1.43.59L10.3 9.45l-7.72 7.72c-.78.78-.78 2.05 0 2.83L4 21.41c.39.39.9.59 1.41.59.51 0 1.02-.2 1.41-.59l7.78-7.78 2.81-2.81c.8-.78.8-2.07 0-2.86zM5.41 20L4 18.59l7.72-7.72 1.47 1.35L5.41 20z\"/>\n",
              "  </svg>\n",
              "      </button>\n",
              "      \n",
              "  <style>\n",
              "    .colab-df-container {\n",
              "      display:flex;\n",
              "      flex-wrap:wrap;\n",
              "      gap: 12px;\n",
              "    }\n",
              "\n",
              "    .colab-df-convert {\n",
              "      background-color: #E8F0FE;\n",
              "      border: none;\n",
              "      border-radius: 50%;\n",
              "      cursor: pointer;\n",
              "      display: none;\n",
              "      fill: #1967D2;\n",
              "      height: 32px;\n",
              "      padding: 0 0 0 0;\n",
              "      width: 32px;\n",
              "    }\n",
              "\n",
              "    .colab-df-convert:hover {\n",
              "      background-color: #E2EBFA;\n",
              "      box-shadow: 0px 1px 2px rgba(60, 64, 67, 0.3), 0px 1px 3px 1px rgba(60, 64, 67, 0.15);\n",
              "      fill: #174EA6;\n",
              "    }\n",
              "\n",
              "    [theme=dark] .colab-df-convert {\n",
              "      background-color: #3B4455;\n",
              "      fill: #D2E3FC;\n",
              "    }\n",
              "\n",
              "    [theme=dark] .colab-df-convert:hover {\n",
              "      background-color: #434B5C;\n",
              "      box-shadow: 0px 1px 3px 1px rgba(0, 0, 0, 0.15);\n",
              "      filter: drop-shadow(0px 1px 2px rgba(0, 0, 0, 0.3));\n",
              "      fill: #FFFFFF;\n",
              "    }\n",
              "  </style>\n",
              "\n",
              "      <script>\n",
              "        const buttonEl =\n",
              "          document.querySelector('#df-a3f3205e-e902-4d62-a6ce-9a86eeba0b14 button.colab-df-convert');\n",
              "        buttonEl.style.display =\n",
              "          google.colab.kernel.accessAllowed ? 'block' : 'none';\n",
              "\n",
              "        async function convertToInteractive(key) {\n",
              "          const element = document.querySelector('#df-a3f3205e-e902-4d62-a6ce-9a86eeba0b14');\n",
              "          const dataTable =\n",
              "            await google.colab.kernel.invokeFunction('convertToInteractive',\n",
              "                                                     [key], {});\n",
              "          if (!dataTable) return;\n",
              "\n",
              "          const docLinkHtml = 'Like what you see? Visit the ' +\n",
              "            '<a target=\"_blank\" href=https://colab.research.google.com/notebooks/data_table.ipynb>data table notebook</a>'\n",
              "            + ' to learn more about interactive tables.';\n",
              "          element.innerHTML = '';\n",
              "          dataTable['output_type'] = 'display_data';\n",
              "          await google.colab.output.renderOutput(dataTable, element);\n",
              "          const docLink = document.createElement('div');\n",
              "          docLink.innerHTML = docLinkHtml;\n",
              "          element.appendChild(docLink);\n",
              "        }\n",
              "      </script>\n",
              "    </div>\n",
              "  </div>\n",
              "  "
            ]
          },
          "metadata": {},
          "execution_count": 11
        }
      ]
    },
    {
      "cell_type": "code",
      "source": [
        "# answering the second question\n",
        "city = df.groupby(['City']).sum()\n",
        "city"
      ],
      "metadata": {
        "colab": {
          "base_uri": "https://localhost:8080/",
          "height": 394
        },
        "id": "UOvuQoF4Zpxj",
        "outputId": "ef75e760-db78-44a7-99b6-8d45a33a2d86"
      },
      "execution_count": 12,
      "outputs": [
        {
          "output_type": "execute_result",
          "data": {
            "text/plain": [
              "                   Quantity Ordered  Price Each   Month       Sales\n",
              "City                                                               \n",
              " Atlanta GA                   16602  2779908.20  104794  2795498.58\n",
              " Austin TX                    11153  1809873.61   69829  1819581.75\n",
              " Boston MA                    22528  3637409.77  141112  3661642.01\n",
              " Dallas TX                    16730  2752627.82  104620  2767975.40\n",
              " Los Angeles CA               33289  5421435.23  208325  5452570.80\n",
              " New York City NY             27932  4635370.83  175741  4664317.43\n",
              " Portland ME                   2750   447189.25   17144   449758.27\n",
              " Portland OR                  11303  1860558.22   70621  1870732.34\n",
              " San Francisco CA             50239  8211461.74  315520  8262203.91\n",
              " Seattle WA                   16553  2733296.01  104941  2747755.48"
            ],
            "text/html": [
              "\n",
              "  <div id=\"df-45e7dfb3-bfbb-4f48-912c-eec4f112504a\">\n",
              "    <div class=\"colab-df-container\">\n",
              "      <div>\n",
              "<style scoped>\n",
              "    .dataframe tbody tr th:only-of-type {\n",
              "        vertical-align: middle;\n",
              "    }\n",
              "\n",
              "    .dataframe tbody tr th {\n",
              "        vertical-align: top;\n",
              "    }\n",
              "\n",
              "    .dataframe thead th {\n",
              "        text-align: right;\n",
              "    }\n",
              "</style>\n",
              "<table border=\"1\" class=\"dataframe\">\n",
              "  <thead>\n",
              "    <tr style=\"text-align: right;\">\n",
              "      <th></th>\n",
              "      <th>Quantity Ordered</th>\n",
              "      <th>Price Each</th>\n",
              "      <th>Month</th>\n",
              "      <th>Sales</th>\n",
              "    </tr>\n",
              "    <tr>\n",
              "      <th>City</th>\n",
              "      <th></th>\n",
              "      <th></th>\n",
              "      <th></th>\n",
              "      <th></th>\n",
              "    </tr>\n",
              "  </thead>\n",
              "  <tbody>\n",
              "    <tr>\n",
              "      <th>Atlanta GA</th>\n",
              "      <td>16602</td>\n",
              "      <td>2779908.20</td>\n",
              "      <td>104794</td>\n",
              "      <td>2795498.58</td>\n",
              "    </tr>\n",
              "    <tr>\n",
              "      <th>Austin TX</th>\n",
              "      <td>11153</td>\n",
              "      <td>1809873.61</td>\n",
              "      <td>69829</td>\n",
              "      <td>1819581.75</td>\n",
              "    </tr>\n",
              "    <tr>\n",
              "      <th>Boston MA</th>\n",
              "      <td>22528</td>\n",
              "      <td>3637409.77</td>\n",
              "      <td>141112</td>\n",
              "      <td>3661642.01</td>\n",
              "    </tr>\n",
              "    <tr>\n",
              "      <th>Dallas TX</th>\n",
              "      <td>16730</td>\n",
              "      <td>2752627.82</td>\n",
              "      <td>104620</td>\n",
              "      <td>2767975.40</td>\n",
              "    </tr>\n",
              "    <tr>\n",
              "      <th>Los Angeles CA</th>\n",
              "      <td>33289</td>\n",
              "      <td>5421435.23</td>\n",
              "      <td>208325</td>\n",
              "      <td>5452570.80</td>\n",
              "    </tr>\n",
              "    <tr>\n",
              "      <th>New York City NY</th>\n",
              "      <td>27932</td>\n",
              "      <td>4635370.83</td>\n",
              "      <td>175741</td>\n",
              "      <td>4664317.43</td>\n",
              "    </tr>\n",
              "    <tr>\n",
              "      <th>Portland ME</th>\n",
              "      <td>2750</td>\n",
              "      <td>447189.25</td>\n",
              "      <td>17144</td>\n",
              "      <td>449758.27</td>\n",
              "    </tr>\n",
              "    <tr>\n",
              "      <th>Portland OR</th>\n",
              "      <td>11303</td>\n",
              "      <td>1860558.22</td>\n",
              "      <td>70621</td>\n",
              "      <td>1870732.34</td>\n",
              "    </tr>\n",
              "    <tr>\n",
              "      <th>San Francisco CA</th>\n",
              "      <td>50239</td>\n",
              "      <td>8211461.74</td>\n",
              "      <td>315520</td>\n",
              "      <td>8262203.91</td>\n",
              "    </tr>\n",
              "    <tr>\n",
              "      <th>Seattle WA</th>\n",
              "      <td>16553</td>\n",
              "      <td>2733296.01</td>\n",
              "      <td>104941</td>\n",
              "      <td>2747755.48</td>\n",
              "    </tr>\n",
              "  </tbody>\n",
              "</table>\n",
              "</div>\n",
              "      <button class=\"colab-df-convert\" onclick=\"convertToInteractive('df-45e7dfb3-bfbb-4f48-912c-eec4f112504a')\"\n",
              "              title=\"Convert this dataframe to an interactive table.\"\n",
              "              style=\"display:none;\">\n",
              "        \n",
              "  <svg xmlns=\"http://www.w3.org/2000/svg\" height=\"24px\"viewBox=\"0 0 24 24\"\n",
              "       width=\"24px\">\n",
              "    <path d=\"M0 0h24v24H0V0z\" fill=\"none\"/>\n",
              "    <path d=\"M18.56 5.44l.94 2.06.94-2.06 2.06-.94-2.06-.94-.94-2.06-.94 2.06-2.06.94zm-11 1L8.5 8.5l.94-2.06 2.06-.94-2.06-.94L8.5 2.5l-.94 2.06-2.06.94zm10 10l.94 2.06.94-2.06 2.06-.94-2.06-.94-.94-2.06-.94 2.06-2.06.94z\"/><path d=\"M17.41 7.96l-1.37-1.37c-.4-.4-.92-.59-1.43-.59-.52 0-1.04.2-1.43.59L10.3 9.45l-7.72 7.72c-.78.78-.78 2.05 0 2.83L4 21.41c.39.39.9.59 1.41.59.51 0 1.02-.2 1.41-.59l7.78-7.78 2.81-2.81c.8-.78.8-2.07 0-2.86zM5.41 20L4 18.59l7.72-7.72 1.47 1.35L5.41 20z\"/>\n",
              "  </svg>\n",
              "      </button>\n",
              "      \n",
              "  <style>\n",
              "    .colab-df-container {\n",
              "      display:flex;\n",
              "      flex-wrap:wrap;\n",
              "      gap: 12px;\n",
              "    }\n",
              "\n",
              "    .colab-df-convert {\n",
              "      background-color: #E8F0FE;\n",
              "      border: none;\n",
              "      border-radius: 50%;\n",
              "      cursor: pointer;\n",
              "      display: none;\n",
              "      fill: #1967D2;\n",
              "      height: 32px;\n",
              "      padding: 0 0 0 0;\n",
              "      width: 32px;\n",
              "    }\n",
              "\n",
              "    .colab-df-convert:hover {\n",
              "      background-color: #E2EBFA;\n",
              "      box-shadow: 0px 1px 2px rgba(60, 64, 67, 0.3), 0px 1px 3px 1px rgba(60, 64, 67, 0.15);\n",
              "      fill: #174EA6;\n",
              "    }\n",
              "\n",
              "    [theme=dark] .colab-df-convert {\n",
              "      background-color: #3B4455;\n",
              "      fill: #D2E3FC;\n",
              "    }\n",
              "\n",
              "    [theme=dark] .colab-df-convert:hover {\n",
              "      background-color: #434B5C;\n",
              "      box-shadow: 0px 1px 3px 1px rgba(0, 0, 0, 0.15);\n",
              "      filter: drop-shadow(0px 1px 2px rgba(0, 0, 0, 0.3));\n",
              "      fill: #FFFFFF;\n",
              "    }\n",
              "  </style>\n",
              "\n",
              "      <script>\n",
              "        const buttonEl =\n",
              "          document.querySelector('#df-45e7dfb3-bfbb-4f48-912c-eec4f112504a button.colab-df-convert');\n",
              "        buttonEl.style.display =\n",
              "          google.colab.kernel.accessAllowed ? 'block' : 'none';\n",
              "\n",
              "        async function convertToInteractive(key) {\n",
              "          const element = document.querySelector('#df-45e7dfb3-bfbb-4f48-912c-eec4f112504a');\n",
              "          const dataTable =\n",
              "            await google.colab.kernel.invokeFunction('convertToInteractive',\n",
              "                                                     [key], {});\n",
              "          if (!dataTable) return;\n",
              "\n",
              "          const docLinkHtml = 'Like what you see? Visit the ' +\n",
              "            '<a target=\"_blank\" href=https://colab.research.google.com/notebooks/data_table.ipynb>data table notebook</a>'\n",
              "            + ' to learn more about interactive tables.';\n",
              "          element.innerHTML = '';\n",
              "          dataTable['output_type'] = 'display_data';\n",
              "          await google.colab.output.renderOutput(dataTable, element);\n",
              "          const docLink = document.createElement('div');\n",
              "          docLink.innerHTML = docLinkHtml;\n",
              "          element.appendChild(docLink);\n",
              "        }\n",
              "      </script>\n",
              "    </div>\n",
              "  </div>\n",
              "  "
            ]
          },
          "metadata": {},
          "execution_count": 12
        }
      ]
    },
    {
      "cell_type": "code",
      "source": [
        "cities = [city for city, df in df.groupby('City')]\n",
        "plt.xlabel(\"City\")\n",
        "plt.ylabel(\"Sales Revenue in millions ($)\")\n",
        "plt.xticks(rotation='vertical', size=8)\n",
        "plt.bar(cities, city['Sales'])"
      ],
      "metadata": {
        "colab": {
          "base_uri": "https://localhost:8080/",
          "height": 369
        },
        "id": "Ek87huUHdw3L",
        "outputId": "4765761b-9cfb-4bb7-f611-fea1845ebc55"
      },
      "execution_count": 13,
      "outputs": [
        {
          "output_type": "execute_result",
          "data": {
            "text/plain": [
              "<BarContainer object of 10 artists>"
            ]
          },
          "metadata": {},
          "execution_count": 13
        },
        {
          "output_type": "display_data",
          "data": {
            "text/plain": [
              "<Figure size 432x288 with 1 Axes>"
            ],
            "image/png": "[encoded data removed]"
          },
          "metadata": {
            "needs_background": "light"
          }
        }
      ]
    },
    {
      "cell_type": "markdown",
      "source": [
        "**So back to our question, the city with most sales is San Francisco CA**\n",
        "\n",
        "> might be because of the silicon vally or better tech ads there or even people have more money there, needs some more digging to find out\n",
        "\n",
        "**Also, the worst city in terms of sales is Portland ME** \n",
        "\n",
        "> probably Portland maine is the smallest city out of these, or maybe people there are not that \"rich\"\n"
      ],
      "metadata": {
        "id": "wBf38LRAhcF7"
      }
    },
    {
      "cell_type": "markdown",
      "source": [
        "### Question 3\n",
        "what is the peak time for purchasing?"
      ],
      "metadata": {
        "id": "SBe2Zys7iPLU"
      }
    },
    {
      "cell_type": "code",
      "source": [
        "# converting the order date to datetime object\n",
        "df['Order Date'] = pd.to_datetime(df['Order Date'])"
      ],
      "metadata": {
        "id": "swNL4Qk7idAC"
      },
      "execution_count": 14,
      "outputs": []
    },
    {
      "cell_type": "code",
      "source": [
        "df['Hour'] = df['Order Date'].dt.hour\n",
        "df['Minute'] = df['Order Date'].dt.minute\n",
        "df.head()"
      ],
      "metadata": {
        "colab": {
          "base_uri": "https://localhost:8080/",
          "height": 354
        },
        "id": "uTsV7VCFlh_H",
        "outputId": "64afc179-f19e-45ff-c3d2-dffe0aac3c04"
      },
      "execution_count": 15,
      "outputs": [
        {
          "output_type": "execute_result",
          "data": {
            "text/plain": [
              "  Order ID                   Product  Quantity Ordered  Price Each  \\\n",
              "0   222910  Apple Airpods Headphones                 1      150.00   \n",
              "1   222911             Flatscreen TV                 1      300.00   \n",
              "2   222912     AA Batteries (4-pack)                 1        3.84   \n",
              "3   222913     AA Batteries (4-pack)                 1        3.84   \n",
              "4   222914    AAA Batteries (4-pack)                 5        2.99   \n",
              "\n",
              "           Order Date                  Purchase Address  Month   Sales  \\\n",
              "0 2019-07-26 16:51:00   389 South St, Atlanta, GA 30301      7  150.00   \n",
              "1 2019-07-05 08:55:00     590 4th St, Seattle, WA 98101      7  300.00   \n",
              "2 2019-07-29 12:41:00    861 Hill St, Atlanta, GA 30301      7    3.84   \n",
              "3 2019-07-28 10:15:00   190 Ridge St, Atlanta, GA 30301      7    3.84   \n",
              "4 2019-07-31 02:13:00  824 Forest St, Seattle, WA 98101      7   14.95   \n",
              "\n",
              "          City State  Hour  Minute  \n",
              "0   Atlanta GA    GA    16      51  \n",
              "1   Seattle WA    WA     8      55  \n",
              "2   Atlanta GA    GA    12      41  \n",
              "3   Atlanta GA    GA    10      15  \n",
              "4   Seattle WA    WA     2      13  "
            ],
            "text/html": [
              "\n",
              "  <div id=\"df-628611a9-440a-4823-95dd-03a8d605e61e\">\n",
              "    <div class=\"colab-df-container\">\n",
              "      <div>\n",
              "<style scoped>\n",
              "    .dataframe tbody tr th:only-of-type {\n",
              "        vertical-align: middle;\n",
              "    }\n",
              "\n",
              "    .dataframe tbody tr th {\n",
              "        vertical-align: top;\n",
              "    }\n",
              "\n",
              "    .dataframe thead th {\n",
              "        text-align: right;\n",
              "    }\n",
              "</style>\n",
              "<table border=\"1\" class=\"dataframe\">\n",
              "  <thead>\n",
              "    <tr style=\"text-align: right;\">\n",
              "      <th></th>\n",
              "      <th>Order ID</th>\n",
              "      <th>Product</th>\n",
              "      <th>Quantity Ordered</th>\n",
              "      <th>Price Each</th>\n",
              "      <th>Order Date</th>\n",
              "      <th>Purchase Address</th>\n",
              "      <th>Month</th>\n",
              "      <th>Sales</th>\n",
              "      <th>City</th>\n",
              "      <th>State</th>\n",
              "      <th>Hour</th>\n",
              "      <th>Minute</th>\n",
              "    </tr>\n",
              "  </thead>\n",
              "  <tbody>\n",
              "    <tr>\n",
              "      <th>0</th>\n",
              "      <td>222910</td>\n",
              "      <td>Apple Airpods Headphones</td>\n",
              "      <td>1</td>\n",
              "      <td>150.00</td>\n",
              "      <td>2019-07-26 16:51:00</td>\n",
              "      <td>389 South St, Atlanta, GA 30301</td>\n",
              "      <td>7</td>\n",
              "      <td>150.00</td>\n",
              "      <td>Atlanta GA</td>\n",
              "      <td>GA</td>\n",
              "      <td>16</td>\n",
              "      <td>51</td>\n",
              "    </tr>\n",
              "    <tr>\n",
              "      <th>1</th>\n",
              "      <td>222911</td>\n",
              "      <td>Flatscreen TV</td>\n",
              "      <td>1</td>\n",
              "      <td>300.00</td>\n",
              "      <td>2019-07-05 08:55:00</td>\n",
              "      <td>590 4th St, Seattle, WA 98101</td>\n",
              "      <td>7</td>\n",
              "      <td>300.00</td>\n",
              "      <td>Seattle WA</td>\n",
              "      <td>WA</td>\n",
              "      <td>8</td>\n",
              "      <td>55</td>\n",
              "    </tr>\n",
              "    <tr>\n",
              "      <th>2</th>\n",
              "      <td>222912</td>\n",
              "      <td>AA Batteries (4-pack)</td>\n",
              "      <td>1</td>\n",
              "      <td>3.84</td>\n",
              "      <td>2019-07-29 12:41:00</td>\n",
              "      <td>861 Hill St, Atlanta, GA 30301</td>\n",
              "      <td>7</td>\n",
              "      <td>3.84</td>\n",
              "      <td>Atlanta GA</td>\n",
              "      <td>GA</td>\n",
              "      <td>12</td>\n",
              "      <td>41</td>\n",
              "    </tr>\n",
              "    <tr>\n",
              "      <th>3</th>\n",
              "      <td>222913</td>\n",
              "      <td>AA Batteries (4-pack)</td>\n",
              "      <td>1</td>\n",
              "      <td>3.84</td>\n",
              "      <td>2019-07-28 10:15:00</td>\n",
              "      <td>190 Ridge St, Atlanta, GA 30301</td>\n",
              "      <td>7</td>\n",
              "      <td>3.84</td>\n",
              "      <td>Atlanta GA</td>\n",
              "      <td>GA</td>\n",
              "      <td>10</td>\n",
              "      <td>15</td>\n",
              "    </tr>\n",
              "    <tr>\n",
              "      <th>4</th>\n",
              "      <td>222914</td>\n",
              "      <td>AAA Batteries (4-pack)</td>\n",
              "      <td>5</td>\n",
              "      <td>2.99</td>\n",
              "      <td>2019-07-31 02:13:00</td>\n",
              "      <td>824 Forest St, Seattle, WA 98101</td>\n",
              "      <td>7</td>\n",
              "      <td>14.95</td>\n",
              "      <td>Seattle WA</td>\n",
              "      <td>WA</td>\n",
              "      <td>2</td>\n",
              "      <td>13</td>\n",
              "    </tr>\n",
              "  </tbody>\n",
              "</table>\n",
              "</div>\n",
              "      <button class=\"colab-df-convert\" onclick=\"convertToInteractive('df-628611a9-440a-4823-95dd-03a8d605e61e')\"\n",
              "              title=\"Convert this dataframe to an interactive table.\"\n",
              "              style=\"display:none;\">\n",
              "        \n",
              "  <svg xmlns=\"http://www.w3.org/2000/svg\" height=\"24px\"viewBox=\"0 0 24 24\"\n",
              "       width=\"24px\">\n",
              "    <path d=\"M0 0h24v24H0V0z\" fill=\"none\"/>\n",
              "    <path d=\"M18.56 5.44l.94 2.06.94-2.06 2.06-.94-2.06-.94-.94-2.06-.94 2.06-2.06.94zm-11 1L8.5 8.5l.94-2.06 2.06-.94-2.06-.94L8.5 2.5l-.94 2.06-2.06.94zm10 10l.94 2.06.94-2.06 2.06-.94-2.06-.94-.94-2.06-.94 2.06-2.06.94z\"/><path d=\"M17.41 7.96l-1.37-1.37c-.4-.4-.92-.59-1.43-.59-.52 0-1.04.2-1.43.59L10.3 9.45l-7.72 7.72c-.78.78-.78 2.05 0 2.83L4 21.41c.39.39.9.59 1.41.59.51 0 1.02-.2 1.41-.59l7.78-7.78 2.81-2.81c.8-.78.8-2.07 0-2.86zM5.41 20L4 18.59l7.72-7.72 1.47 1.35L5.41 20z\"/>\n",
              "  </svg>\n",
              "      </button>\n",
              "      \n",
              "  <style>\n",
              "    .colab-df-container {\n",
              "      display:flex;\n",
              "      flex-wrap:wrap;\n",
              "      gap: 12px;\n",
              "    }\n",
              "\n",
              "    .colab-df-convert {\n",
              "      background-color: #E8F0FE;\n",
              "      border: none;\n",
              "      border-radius: 50%;\n",
              "      cursor: pointer;\n",
              "      display: none;\n",
              "      fill: #1967D2;\n",
              "      height: 32px;\n",
              "      padding: 0 0 0 0;\n",
              "      width: 32px;\n",
              "    }\n",
              "\n",
              "    .colab-df-convert:hover {\n",
              "      background-color: #E2EBFA;\n",
              "      box-shadow: 0px 1px 2px rgba(60, 64, 67, 0.3), 0px 1px 3px 1px rgba(60, 64, 67, 0.15);\n",
              "      fill: #174EA6;\n",
              "    }\n",
              "\n",
              "    [theme=dark] .colab-df-convert {\n",
              "      background-color: #3B4455;\n",
              "      fill: #D2E3FC;\n",
              "    }\n",
              "\n",
              "    [theme=dark] .colab-df-convert:hover {\n",
              "      background-color: #434B5C;\n",
              "      box-shadow: 0px 1px 3px 1px rgba(0, 0, 0, 0.15);\n",
              "      filter: drop-shadow(0px 1px 2px rgba(0, 0, 0, 0.3));\n",
              "      fill: #FFFFFF;\n",
              "    }\n",
              "  </style>\n",
              "\n",
              "      <script>\n",
              "        const buttonEl =\n",
              "          document.querySelector('#df-628611a9-440a-4823-95dd-03a8d605e61e button.colab-df-convert');\n",
              "        buttonEl.style.display =\n",
              "          google.colab.kernel.accessAllowed ? 'block' : 'none';\n",
              "\n",
              "        async function convertToInteractive(key) {\n",
              "          const element = document.querySelector('#df-628611a9-440a-4823-95dd-03a8d605e61e');\n",
              "          const dataTable =\n",
              "            await google.colab.kernel.invokeFunction('convertToInteractive',\n",
              "                                                     [key], {});\n",
              "          if (!dataTable) return;\n",
              "\n",
              "          const docLinkHtml = 'Like what you see? Visit the ' +\n",
              "            '<a target=\"_blank\" href=https://colab.research.google.com/notebooks/data_table.ipynb>data table notebook</a>'\n",
              "            + ' to learn more about interactive tables.';\n",
              "          element.innerHTML = '';\n",
              "          dataTable['output_type'] = 'display_data';\n",
              "          await google.colab.output.renderOutput(dataTable, element);\n",
              "          const docLink = document.createElement('div');\n",
              "          docLink.innerHTML = docLinkHtml;\n",
              "          element.appendChild(docLink);\n",
              "        }\n",
              "      </script>\n",
              "    </div>\n",
              "  </div>\n",
              "  "
            ]
          },
          "metadata": {},
          "execution_count": 15
        }
      ]
    },
    {
      "cell_type": "code",
      "source": [
        "# answering the third question\n",
        "df['Count'] = 1\n",
        "hour = df.groupby(['Hour']).count()['Count']\n",
        "hours = [hour for hour, df in df.groupby('Hour')]"
      ],
      "metadata": {
        "id": "oub0uzQfmBCO"
      },
      "execution_count": 16,
      "outputs": []
    },
    {
      "cell_type": "code",
      "source": [
        "plt.plot(hours, hour)\n",
        "plt.xlabel(\"hour\")\n",
        "plt.ylabel(\"Number of orders\")\n",
        "plt.xticks(hours)\n",
        "plt.plot(hours, hour, color=\"brown\")\n",
        "plt.grid()"
      ],
      "metadata": {
        "colab": {
          "base_uri": "https://localhost:8080/",
          "height": 279
        },
        "id": "QkKyrYCSnxWS",
        "outputId": "eecca823-f342-4db1-a29c-43a5c1486087"
      },
      "execution_count": 17,
      "outputs": [
        {
          "output_type": "display_data",
          "data": {
            "text/plain": [
              "<Figure size 432x288 with 1 Axes>"
            ],
            "image/png": "[encoded data removed]"
          },
          "metadata": {
            "needs_background": "light"
          }
        }
      ]
    },
    {
      "cell_type": "markdown",
      "source": [
        "**As we can see here, peak time was on 12 and 19**\n"
      ],
      "metadata": {
        "id": "3l_JEL2D2s39"
      }
    },
    {
      "cell_type": "markdown",
      "source": [
        "### Question 4\n",
        "what products are most often sold together?"
      ],
      "metadata": {
        "id": "su_zkYbv0cVi"
      }
    },
    {
      "cell_type": "code",
      "source": [
        "df = df[df['Order ID'].duplicated(keep=False)]\n",
        "df['Grouped'] = df.groupby('Order ID')['Product'].transform(lambda x: ','.join(x))"
      ],
      "metadata": {
        "id": "oP66DjOu1XGW"
      },
      "execution_count": 18,
      "outputs": []
    },
    {
      "cell_type": "code",
      "source": [
        "df2 = df[['Order ID', 'Grouped']].drop_duplicates()\n",
        "df2.head(5)"
      ],
      "metadata": {
        "colab": {
          "base_uri": "https://localhost:8080/",
          "height": 206
        },
        "id": "iFVVIg0t3sWx",
        "outputId": "4f2f969a-4f91-4428-c0b4-e142f7a537e2"
      },
      "execution_count": 19,
      "outputs": [
        {
          "output_type": "execute_result",
          "data": {
            "text/plain": [
              "    Order ID                                            Grouped\n",
              "118   223028  Vareebadd Phone,USB-C Charging Cable,Wired Hea...\n",
              "140   223048               Vareebadd Phone,USB-C Charging Cable\n",
              "188   223095     Apple Airpods Headphones,AA Batteries (4-pack)\n",
              "201   223106                   Wired Headphones,Vareebadd Phone\n",
              "213   223117                  Google Phone,USB-C Charging Cable"
            ],
            "text/html": [
              "\n",
              "  <div id=\"df-4eb66f98-56bb-4d56-939c-cbffd21853e9\">\n",
              "    <div class=\"colab-df-container\">\n",
              "      <div>\n",
              "<style scoped>\n",
              "    .dataframe tbody tr th:only-of-type {\n",
              "        vertical-align: middle;\n",
              "    }\n",
              "\n",
              "    .dataframe tbody tr th {\n",
              "        vertical-align: top;\n",
              "    }\n",
              "\n",
              "    .dataframe thead th {\n",
              "        text-align: right;\n",
              "    }\n",
              "</style>\n",
              "<table border=\"1\" class=\"dataframe\">\n",
              "  <thead>\n",
              "    <tr style=\"text-align: right;\">\n",
              "      <th></th>\n",
              "      <th>Order ID</th>\n",
              "      <th>Grouped</th>\n",
              "    </tr>\n",
              "  </thead>\n",
              "  <tbody>\n",
              "    <tr>\n",
              "      <th>118</th>\n",
              "      <td>223028</td>\n",
              "      <td>Vareebadd Phone,USB-C Charging Cable,Wired Hea...</td>\n",
              "    </tr>\n",
              "    <tr>\n",
              "      <th>140</th>\n",
              "      <td>223048</td>\n",
              "      <td>Vareebadd Phone,USB-C Charging Cable</td>\n",
              "    </tr>\n",
              "    <tr>\n",
              "      <th>188</th>\n",
              "      <td>223095</td>\n",
              "      <td>Apple Airpods Headphones,AA Batteries (4-pack)</td>\n",
              "    </tr>\n",
              "    <tr>\n",
              "      <th>201</th>\n",
              "      <td>223106</td>\n",
              "      <td>Wired Headphones,Vareebadd Phone</td>\n",
              "    </tr>\n",
              "    <tr>\n",
              "      <th>213</th>\n",
              "      <td>223117</td>\n",
              "      <td>Google Phone,USB-C Charging Cable</td>\n",
              "    </tr>\n",
              "  </tbody>\n",
              "</table>\n",
              "</div>\n",
              "      <button class=\"colab-df-convert\" onclick=\"convertToInteractive('df-4eb66f98-56bb-4d56-939c-cbffd21853e9')\"\n",
              "              title=\"Convert this dataframe to an interactive table.\"\n",
              "              style=\"display:none;\">\n",
              "        \n",
              "  <svg xmlns=\"http://www.w3.org/2000/svg\" height=\"24px\"viewBox=\"0 0 24 24\"\n",
              "       width=\"24px\">\n",
              "    <path d=\"M0 0h24v24H0V0z\" fill=\"none\"/>\n",
              "    <path d=\"M18.56 5.44l.94 2.06.94-2.06 2.06-.94-2.06-.94-.94-2.06-.94 2.06-2.06.94zm-11 1L8.5 8.5l.94-2.06 2.06-.94-2.06-.94L8.5 2.5l-.94 2.06-2.06.94zm10 10l.94 2.06.94-2.06 2.06-.94-2.06-.94-.94-2.06-.94 2.06-2.06.94z\"/><path d=\"M17.41 7.96l-1.37-1.37c-.4-.4-.92-.59-1.43-.59-.52 0-1.04.2-1.43.59L10.3 9.45l-7.72 7.72c-.78.78-.78 2.05 0 2.83L4 21.41c.39.39.9.59 1.41.59.51 0 1.02-.2 1.41-.59l7.78-7.78 2.81-2.81c.8-.78.8-2.07 0-2.86zM5.41 20L4 18.59l7.72-7.72 1.47 1.35L5.41 20z\"/>\n",
              "  </svg>\n",
              "      </button>\n",
              "      \n",
              "  <style>\n",
              "    .colab-df-container {\n",
              "      display:flex;\n",
              "      flex-wrap:wrap;\n",
              "      gap: 12px;\n",
              "    }\n",
              "\n",
              "    .colab-df-convert {\n",
              "      background-color: #E8F0FE;\n",
              "      border: none;\n",
              "      border-radius: 50%;\n",
              "      cursor: pointer;\n",
              "      display: none;\n",
              "      fill: #1967D2;\n",
              "      height: 32px;\n",
              "      padding: 0 0 0 0;\n",
              "      width: 32px;\n",
              "    }\n",
              "\n",
              "    .colab-df-convert:hover {\n",
              "      background-color: #E2EBFA;\n",
              "      box-shadow: 0px 1px 2px rgba(60, 64, 67, 0.3), 0px 1px 3px 1px rgba(60, 64, 67, 0.15);\n",
              "      fill: #174EA6;\n",
              "    }\n",
              "\n",
              "    [theme=dark] .colab-df-convert {\n",
              "      background-color: #3B4455;\n",
              "      fill: #D2E3FC;\n",
              "    }\n",
              "\n",
              "    [theme=dark] .colab-df-convert:hover {\n",
              "      background-color: #434B5C;\n",
              "      box-shadow: 0px 1px 3px 1px rgba(0, 0, 0, 0.15);\n",
              "      filter: drop-shadow(0px 1px 2px rgba(0, 0, 0, 0.3));\n",
              "      fill: #FFFFFF;\n",
              "    }\n",
              "  </style>\n",
              "\n",
              "      <script>\n",
              "        const buttonEl =\n",
              "          document.querySelector('#df-4eb66f98-56bb-4d56-939c-cbffd21853e9 button.colab-df-convert');\n",
              "        buttonEl.style.display =\n",
              "          google.colab.kernel.accessAllowed ? 'block' : 'none';\n",
              "\n",
              "        async function convertToInteractive(key) {\n",
              "          const element = document.querySelector('#df-4eb66f98-56bb-4d56-939c-cbffd21853e9');\n",
              "          const dataTable =\n",
              "            await google.colab.kernel.invokeFunction('convertToInteractive',\n",
              "                                                     [key], {});\n",
              "          if (!dataTable) return;\n",
              "\n",
              "          const docLinkHtml = 'Like what you see? Visit the ' +\n",
              "            '<a target=\"_blank\" href=https://colab.research.google.com/notebooks/data_table.ipynb>data table notebook</a>'\n",
              "            + ' to learn more about interactive tables.';\n",
              "          element.innerHTML = '';\n",
              "          dataTable['output_type'] = 'display_data';\n",
              "          await google.colab.output.renderOutput(dataTable, element);\n",
              "          const docLink = document.createElement('div');\n",
              "          docLink.innerHTML = docLinkHtml;\n",
              "          element.appendChild(docLink);\n",
              "        }\n",
              "      </script>\n",
              "    </div>\n",
              "  </div>\n",
              "  "
            ]
          },
          "metadata": {},
          "execution_count": 19
        }
      ]
    },
    {
      "cell_type": "code",
      "source": [
        "count = Counter()\n",
        "for row in df['Grouped']:\n",
        "  row_list = row.split(' ')\n",
        "  count.update(Counter(combinations(row_list, 2)))\n",
        "for key,value in count.most_common(10):\n",
        "    print(key, value)"
      ],
      "metadata": {
        "colab": {
          "base_uri": "https://localhost:8080/"
        },
        "id": "3j2Q_t8w5Ibx",
        "outputId": "285fe6b8-3885-4db2-a9a1-67a9e47b20fb"
      },
      "execution_count": 20,
      "outputs": [
        {
          "output_type": "stream",
          "name": "stdout",
          "text": [
            "('Charging', 'Cable') 6107\n",
            "('Phone,USB-C', 'Charging') 2889\n",
            "('Phone,USB-C', 'Cable') 2346\n",
            "('iPhone,Lightning', 'Charging') 2147\n",
            "('Google', 'Charging') 2142\n",
            "('Google', 'Phone,USB-C') 2106\n",
            "('Batteries', '(4-pack)') 1936\n",
            "('iPhone,Lightning', 'Cable') 1783\n",
            "('Google', 'Cable') 1748\n",
            "('Airpods', 'Headphones') 1543\n"
          ]
        }
      ]
    },
    {
      "cell_type": "markdown",
      "source": [
        "**As you can see the most sold products together are above**"
      ],
      "metadata": {
        "id": "dImhMCyE8Fvc"
      }
    },
    {
      "cell_type": "markdown",
      "source": [
        "### Question 5\n",
        "what product sold the most? and why?"
      ],
      "metadata": {
        "id": "uU1zOQQP8QrV"
      }
    },
    {
      "cell_type": "code",
      "source": [
        "product_group = df.groupby('Product')\n",
        "quantity_ordered = product_group.sum()['Quantity Ordered']\n",
        "\n",
        "keys = [pair for pair, df in product_group]\n",
        "plt.bar(keys, quantity_ordered)\n",
        "plt.xticks(keys, rotation='vertical', size=8)\n",
        "plt.xlabel(\"Product\")\n",
        "plt.ylabel(\"Quantity Ordered\")"
      ],
      "metadata": {
        "colab": {
          "base_uri": "https://localhost:8080/",
          "height": 408
        },
        "id": "dWvMYTFs8Yxw",
        "outputId": "e4eeecf4-8d88-4788-a267-3008fd3785fc"
      },
      "execution_count": 21,
      "outputs": [
        {
          "output_type": "execute_result",
          "data": {
            "text/plain": [
              "Text(0, 0.5, 'Quantity Ordered')"
            ]
          },
          "metadata": {},
          "execution_count": 21
        },
        {
          "output_type": "display_data",
          "data": {
            "text/plain": [
              "<Figure size 432x288 with 1 Axes>"
            ],
            "image/png": "[encoded data removed]"
          },
          "metadata": {
            "needs_background": "light"
          }
        }
      ]
    },
    {
      "cell_type": "code",
      "source": [
        "prices = df.groupby('Product').mean()['Price Each']\n",
        "prices"
      ],
      "metadata": {
        "colab": {
          "base_uri": "https://localhost:8080/"
        },
        "id": "J2Ht7U7s8d2p",
        "outputId": "d65c09ff-42ad-4f27-e1a4-12c8a38df748"
      },
      "execution_count": 22,
      "outputs": [
        {
          "output_type": "execute_result",
          "data": {
            "text/plain": [
              "Product\n",
              "20in Monitor                   109.99\n",
              "27in 4K Gaming Monitor         389.99\n",
              "27in FHD Monitor               149.99\n",
              "34in Ultrawide Monitor         379.99\n",
              "AA Batteries (4-pack)            3.84\n",
              "AAA Batteries (4-pack)           2.99\n",
              "Apple Airpods Headphones       150.00\n",
              "Bose SoundSport Headphones      99.99\n",
              "Flatscreen TV                  300.00\n",
              "Google Phone                   600.00\n",
              "LG Dryer                       600.00\n",
              "LG Washing Machine             600.00\n",
              "Lightning Charging Cable        14.95\n",
              "Macbook Pro Laptop            1700.00\n",
              "ThinkPad Laptop                999.99\n",
              "USB-C Charging Cable            11.95\n",
              "Vareebadd Phone                400.00\n",
              "Wired Headphones                11.99\n",
              "iPhone                         700.00\n",
              "Name: Price Each, dtype: float64"
            ]
          },
          "metadata": {},
          "execution_count": 22
        }
      ]
    },
    {
      "cell_type": "code",
      "source": [
        "fig, ax1 = plt.subplots()\n",
        "\n",
        "ax2 = ax1.twinx()\n",
        "ax1.bar(keys, quantity_ordered, color='g')\n",
        "ax2.plot(keys, prices, color='b')\n",
        "\n",
        "ax1.set_xlabel('Product Name')\n",
        "ax1.set_ylabel('Quantity Ordered', color='g')\n",
        "ax2.set_ylabel('Price ($)', color='b')\n",
        "ax1.set_xticklabels(keys, rotation='vertical', size=8)"
      ],
      "metadata": {
        "colab": {
          "base_uri": "https://localhost:8080/",
          "height": 721
        },
        "id": "BxcYGdUx9xuo",
        "outputId": "f2940e9e-a2f9-43be-f651-4654ffa87c3f"
      },
      "execution_count": 23,
      "outputs": [
        {
          "output_type": "execute_result",
          "data": {
            "text/plain": [
              "[Text(0, 0, '20in Monitor'),\n",
              " Text(0, 0, '27in 4K Gaming Monitor'),\n",
              " Text(0, 0, '27in FHD Monitor'),\n",
              " Text(0, 0, '34in Ultrawide Monitor'),\n",
              " Text(0, 0, 'AA Batteries (4-pack)'),\n",
              " Text(0, 0, 'AAA Batteries (4-pack)'),\n",
              " Text(0, 0, 'Apple Airpods Headphones'),\n",
              " Text(0, 0, 'Bose SoundSport Headphones'),\n",
              " Text(0, 0, 'Flatscreen TV'),\n",
              " Text(0, 0, 'Google Phone'),\n",
              " Text(0, 0, 'LG Dryer'),\n",
              " Text(0, 0, 'LG Washing Machine'),\n",
              " Text(0, 0, 'Lightning Charging Cable'),\n",
              " Text(0, 0, 'Macbook Pro Laptop'),\n",
              " Text(0, 0, 'ThinkPad Laptop'),\n",
              " Text(0, 0, 'USB-C Charging Cable'),\n",
              " Text(0, 0, 'Vareebadd Phone'),\n",
              " Text(0, 0, 'Wired Headphones'),\n",
              " Text(0, 0, 'iPhone')]"
            ]
          },
          "metadata": {},
          "execution_count": 23
        },
        {
          "output_type": "display_data",
          "data": {
            "text/plain": [
              "<Figure size 432x288 with 2 Axes>"
            ],
            "image/png": "[encoded data removed]"
          },
          "metadata": {
            "needs_background": "light"
          }
        }
      ]
    },
    {
      "cell_type": "code",
      "source": [
        "sns.scatterplot( x=prices, y=quantity_ordered)"
      ],
      "metadata": {
        "colab": {
          "base_uri": "https://localhost:8080/",
          "height": 296
        },
        "id": "fgMUgOI8_1UD",
        "outputId": "697f3d44-513c-4fdd-dce9-3a99a2e7f150"
      },
      "execution_count": 24,
      "outputs": [
        {
          "output_type": "execute_result",
          "data": {
            "text/plain": [
              "<matplotlib.axes._subplots.AxesSubplot at 0x7f6cfecd4e50>"
            ]
          },
          "metadata": {},
          "execution_count": 24
        },
        {
          "output_type": "display_data",
          "data": {
            "text/plain": [
              "<Figure size 432x288 with 1 Axes>"
            ],
            "image/png": "[encoded data removed]"
          },
          "metadata": {
            "needs_background": "light"
          }
        }
      ]
    },
    {
      "cell_type": "markdown",
      "source": [
        "**So, there is an inverse relationship between the price and quantity ordered**"
      ],
      "metadata": {
        "id": "dRFrjdBN_arN"
      }
    }
  ]
}